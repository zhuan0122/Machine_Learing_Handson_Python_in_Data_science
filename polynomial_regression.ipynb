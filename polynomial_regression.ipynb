{
  "nbformat": 4,
  "nbformat_minor": 0,
  "metadata": {
    "colab": {
      "name": "Copy of polynomial_regression.ipynb",
      "provenance": [],
      "collapsed_sections": [],
      "toc_visible": true,
      "include_colab_link": true
    },
    "kernelspec": {
      "name": "python3",
      "display_name": "Python 3"
    }
  },
  "cells": [
    {
      "cell_type": "markdown",
      "metadata": {
        "id": "view-in-github",
        "colab_type": "text"
      },
      "source": [
        "<a href=\"https://colab.research.google.com/github/zhuan0122/Machine_Learing_Handson_Python_in_Data_science/blob/master/Copy_of_polynomial_regression.ipynb\" target=\"_parent\"><img src=\"https://colab.research.google.com/assets/colab-badge.svg\" alt=\"Open In Colab\"/></a>"
      ]
    },
    {
      "cell_type": "markdown",
      "metadata": {
        "id": "vN99YjPTDena",
        "colab_type": "text"
      },
      "source": [
        "# Polynomial Regression"
      ]
    },
    {
      "cell_type": "markdown",
      "metadata": {
        "id": "ZIx_naXnDyHd",
        "colab_type": "text"
      },
      "source": [
        "## Importing the libraries"
      ]
    },
    {
      "cell_type": "code",
      "metadata": {
        "id": "x_ymmeOyPcoQ",
        "colab_type": "code",
        "colab": {}
      },
      "source": [
        "import numpy as np\n",
        "import pandas as pd \n",
        "import matplotlib.pyplot as plt"
      ],
      "execution_count": 1,
      "outputs": []
    },
    {
      "cell_type": "markdown",
      "metadata": {
        "id": "6c8YExmOD5x5",
        "colab_type": "text"
      },
      "source": [
        "## Importing the dataset"
      ]
    },
    {
      "cell_type": "code",
      "metadata": {
        "id": "OmoHFsKJPo9b",
        "colab_type": "code",
        "colab": {
          "base_uri": "https://localhost:8080/",
          "height": 52
        },
        "outputId": "2b579b19-7d4c-4994-fbc2-19ad062031b2"
      },
      "source": [
        "dataset=pd.read_csv('Position_Salaries.csv')\n",
        "# because the position column has been marked as different level so the first colummn is redunctant and we only need \n",
        "# take care of the second column in the data set\n",
        "x=dataset.iloc[:,1:-1].values\n",
        "y=dataset.iloc[:,-1].values\n",
        "print(y)"
      ],
      "execution_count": 3,
      "outputs": [
        {
          "output_type": "stream",
          "text": [
            "[  45000   50000   60000   80000  110000  150000  200000  300000  500000\n",
            " 1000000]\n"
          ],
          "name": "stdout"
        }
      ]
    },
    {
      "cell_type": "markdown",
      "metadata": {
        "id": "Le8SEL-YEOLb",
        "colab_type": "text"
      },
      "source": [
        "## Training the Linear Regression model on the whole dataset"
      ]
    },
    {
      "cell_type": "code",
      "metadata": {
        "id": "f2e5GTjGQQvq",
        "colab_type": "code",
        "colab": {
          "base_uri": "https://localhost:8080/",
          "height": 35
        },
        "outputId": "11a43291-47a7-4486-9f7d-25e8bc3ec4e3"
      },
      "source": [
        "# so why we tain linear regression model first because the polynomial linear ans simple linear is similary which only has one feature \n",
        "# so we could compare these two models\n",
        "from sklearn.linear_model import LinearRegression\n",
        "simple_line_reg=LinearRegression()\n",
        "simple_line_reg.fit(x,y)"
      ],
      "execution_count": 4,
      "outputs": [
        {
          "output_type": "execute_result",
          "data": {
            "text/plain": [
              "LinearRegression(copy_X=True, fit_intercept=True, n_jobs=None, normalize=False)"
            ]
          },
          "metadata": {
            "tags": []
          },
          "execution_count": 4
        }
      ]
    },
    {
      "cell_type": "markdown",
      "metadata": {
        "id": "Rb5nWuSHEfBV",
        "colab_type": "text"
      },
      "source": [
        "## Training the Polynomial Regression model on the whole dataset"
      ]
    },
    {
      "cell_type": "code",
      "metadata": {
        "id": "LD_o1XlDRS4J",
        "colab_type": "code",
        "colab": {
          "base_uri": "https://localhost:8080/",
          "height": 191
        },
        "outputId": "7e285269-dadd-411c-c78d-0336bfb00ba8"
      },
      "source": [
        "# polynomial linear regression also is applied to one feature prediction\n",
        "# but we know it is special multiple linear regression, since the one feature with \n",
        "# different power, \n",
        "# Step 1 create feature with different power\n",
        "from sklearn.preprocessing import PolynomialFeatures\n",
        "# create poly creator\n",
        "poly_reg = PolynomialFeatures(degree = 4)\n",
        "# fit the feature we have to the polynomial creator \n",
        "x_poly=poly_reg.fit_transform(x)\n",
        "print(x_poly)# x1^0,x1,x1^2,x1^3,x1^4"
      ],
      "execution_count": 19,
      "outputs": [
        {
          "output_type": "stream",
          "text": [
            "[[1.000e+00 1.000e+00 1.000e+00 1.000e+00 1.000e+00]\n",
            " [1.000e+00 2.000e+00 4.000e+00 8.000e+00 1.600e+01]\n",
            " [1.000e+00 3.000e+00 9.000e+00 2.700e+01 8.100e+01]\n",
            " [1.000e+00 4.000e+00 1.600e+01 6.400e+01 2.560e+02]\n",
            " [1.000e+00 5.000e+00 2.500e+01 1.250e+02 6.250e+02]\n",
            " [1.000e+00 6.000e+00 3.600e+01 2.160e+02 1.296e+03]\n",
            " [1.000e+00 7.000e+00 4.900e+01 3.430e+02 2.401e+03]\n",
            " [1.000e+00 8.000e+00 6.400e+01 5.120e+02 4.096e+03]\n",
            " [1.000e+00 9.000e+00 8.100e+01 7.290e+02 6.561e+03]\n",
            " [1.000e+00 1.000e+01 1.000e+02 1.000e+03 1.000e+04]]\n"
          ],
          "name": "stdout"
        }
      ]
    },
    {
      "cell_type": "code",
      "metadata": {
        "id": "lllf5itqSuOe",
        "colab_type": "code",
        "colab": {
          "base_uri": "https://localhost:8080/",
          "height": 35
        },
        "outputId": "ed8bc4e3-c4dd-4eb6-a562-8e611fef168e"
      },
      "source": [
        "line_reg2=LinearRegression()\n",
        "line_reg2.fit(x_poly,y)"
      ],
      "execution_count": 14,
      "outputs": [
        {
          "output_type": "execute_result",
          "data": {
            "text/plain": [
              "LinearRegression(copy_X=True, fit_intercept=True, n_jobs=None, normalize=False)"
            ]
          },
          "metadata": {
            "tags": []
          },
          "execution_count": 14
        }
      ]
    },
    {
      "cell_type": "markdown",
      "metadata": {
        "id": "0O8R0tzbEpvy",
        "colab_type": "text"
      },
      "source": [
        "## Visualising the Linear Regression results"
      ]
    },
    {
      "cell_type": "code",
      "metadata": {
        "id": "60rCc2WOTBM6",
        "colab_type": "code",
        "colab": {
          "base_uri": "https://localhost:8080/",
          "height": 295
        },
        "outputId": "589e7cc3-43de-41d3-e946-a66d423b8423"
      },
      "source": [
        "plt.scatter(x,y,color='red')\n",
        "plt.plot(x,simple_line_reg.predict(x),color='blue')\n",
        "plt.title('postion lever with expected salary')\n",
        "plt.xlabel('position level')\n",
        "plt.ylabel('salary')\n",
        "plt.show()"
      ],
      "execution_count": 7,
      "outputs": [
        {
          "output_type": "display_data",
          "data": {
            "image/png": "[encoded data removed]",
            "text/plain": [
              "<Figure size 432x288 with 1 Axes>"
            ]
          },
          "metadata": {
            "tags": [],
            "needs_background": "light"
          }
        }
      ]
    },
    {
      "cell_type": "markdown",
      "metadata": {
        "id": "stOnSo74E52m",
        "colab_type": "text"
      },
      "source": [
        "## Visualising the Polynomial Regression results"
      ]
    },
    {
      "cell_type": "code",
      "metadata": {
        "id": "Mapcsq2fTqXa",
        "colab_type": "code",
        "colab": {
          "base_uri": "https://localhost:8080/",
          "height": 295
        },
        "outputId": "da953a3d-d9c5-44f0-a04a-6da169f730c1"
      },
      "source": [
        "plt.scatter(x,y,color='red')\n",
        "# we are using the model to predicting, y_predict is predicted with polynomial format\n",
        "# so it is x_poly as model input not x, but we still show original x \n",
        "plt.plot(x,line_reg2.predict(x_poly),color='blue')\n",
        "plt.title('postion lever with expected salary')\n",
        "plt.xlabel('position level')\n",
        "plt.ylabel('salary')\n",
        "plt.show()"
      ],
      "execution_count": 15,
      "outputs": [
        {
          "output_type": "display_data",
          "data": {
            "image/png": "[encoded data removed]",
            "text/plain": [
              "<Figure size 432x288 with 1 Axes>"
            ]
          },
          "metadata": {
            "tags": [],
            "needs_background": "light"
          }
        }
      ]
    },
    {
      "cell_type": "markdown",
      "metadata": {
        "id": "U_qsAMKnE-PJ",
        "colab_type": "text"
      },
      "source": [
        "## Visualising the Polynomial Regression results (for higher resolution and smoother curve)"
      ]
    },
    {
      "cell_type": "code",
      "metadata": {
        "id": "QUUi60nYUhsU",
        "colab_type": "code",
        "colab": {
          "base_uri": "https://localhost:8080/",
          "height": 1000
        },
        "outputId": "7a931875-aa93-44e5-f5f7-4d4aa880b6b7"
      },
      "source": [
        "# we added more points between two periods, inceasing idensity of the points with step 0.1 interval\n",
        "x_grid=np.arange(min(x),max(x),0.1)\n",
        "print(x_grid)\n",
        "# reshape data set as vertical \n",
        "x_grid=x_grid.reshape((len(x_grid),1))\n",
        "print(x_grid)"
      ],
      "execution_count": 16,
      "outputs": [
        {
          "output_type": "stream",
          "text": [
            "[1.  1.1 1.2 1.3 1.4 1.5 1.6 1.7 1.8 1.9 2.  2.1 2.2 2.3 2.4 2.5 2.6 2.7\n",
            " 2.8 2.9 3.  3.1 3.2 3.3 3.4 3.5 3.6 3.7 3.8 3.9 4.  4.1 4.2 4.3 4.4 4.5\n",
            " 4.6 4.7 4.8 4.9 5.  5.1 5.2 5.3 5.4 5.5 5.6 5.7 5.8 5.9 6.  6.1 6.2 6.3\n",
            " 6.4 6.5 6.6 6.7 6.8 6.9 7.  7.1 7.2 7.3 7.4 7.5 7.6 7.7 7.8 7.9 8.  8.1\n",
            " 8.2 8.3 8.4 8.5 8.6 8.7 8.8 8.9 9.  9.1 9.2 9.3 9.4 9.5 9.6 9.7 9.8 9.9]\n",
            "[[1. ]\n",
            " [1.1]\n",
            " [1.2]\n",
            " [1.3]\n",
            " [1.4]\n",
            " [1.5]\n",
            " [1.6]\n",
            " [1.7]\n",
            " [1.8]\n",
            " [1.9]\n",
            " [2. ]\n",
            " [2.1]\n",
            " [2.2]\n",
            " [2.3]\n",
            " [2.4]\n",
            " [2.5]\n",
            " [2.6]\n",
            " [2.7]\n",
            " [2.8]\n",
            " [2.9]\n",
            " [3. ]\n",
            " [3.1]\n",
            " [3.2]\n",
            " [3.3]\n",
            " [3.4]\n",
            " [3.5]\n",
            " [3.6]\n",
            " [3.7]\n",
            " [3.8]\n",
            " [3.9]\n",
            " [4. ]\n",
            " [4.1]\n",
            " [4.2]\n",
            " [4.3]\n",
            " [4.4]\n",
            " [4.5]\n",
            " [4.6]\n",
            " [4.7]\n",
            " [4.8]\n",
            " [4.9]\n",
            " [5. ]\n",
            " [5.1]\n",
            " [5.2]\n",
            " [5.3]\n",
            " [5.4]\n",
            " [5.5]\n",
            " [5.6]\n",
            " [5.7]\n",
            " [5.8]\n",
            " [5.9]\n",
            " [6. ]\n",
            " [6.1]\n",
            " [6.2]\n",
            " [6.3]\n",
            " [6.4]\n",
            " [6.5]\n",
            " [6.6]\n",
            " [6.7]\n",
            " [6.8]\n",
            " [6.9]\n",
            " [7. ]\n",
            " [7.1]\n",
            " [7.2]\n",
            " [7.3]\n",
            " [7.4]\n",
            " [7.5]\n",
            " [7.6]\n",
            " [7.7]\n",
            " [7.8]\n",
            " [7.9]\n",
            " [8. ]\n",
            " [8.1]\n",
            " [8.2]\n",
            " [8.3]\n",
            " [8.4]\n",
            " [8.5]\n",
            " [8.6]\n",
            " [8.7]\n",
            " [8.8]\n",
            " [8.9]\n",
            " [9. ]\n",
            " [9.1]\n",
            " [9.2]\n",
            " [9.3]\n",
            " [9.4]\n",
            " [9.5]\n",
            " [9.6]\n",
            " [9.7]\n",
            " [9.8]\n",
            " [9.9]]\n"
          ],
          "name": "stdout"
        }
      ]
    },
    {
      "cell_type": "markdown",
      "metadata": {
        "id": "diyJFZHhFFeK",
        "colab_type": "text"
      },
      "source": [
        "## Predicting a new result with Linear Regression"
      ]
    },
    {
      "cell_type": "code",
      "metadata": {
        "id": "KN3VH3nbGcSa",
        "colab_type": "code",
        "colab": {
          "base_uri": "https://localhost:8080/",
          "height": 295
        },
        "outputId": "34989a0a-bc3e-43ec-ffd9-b0986be9c18c"
      },
      "source": [
        "# x_grid is one more dense form of x BUT it cannot fit to predict method directly because we need to make it as polynomial form\n",
        "plt.scatter(x,y,color='red')\n",
        "plt.plot(x_grid,line_reg2.predict(poly_reg.fit_transform(x_grid)),color='blue')\n",
        "plt.title('position level vs salaries')\n",
        "plt.xlabel('position level')\n",
        "plt.ylabel('salaries')\n",
        "plt.show()"
      ],
      "execution_count": 20,
      "outputs": [
        {
          "output_type": "display_data",
          "data": {
            "image/png": "[encoded data removed]",
            "text/plain": [
              "<Figure size 432x288 with 1 Axes>"
            ]
          },
          "metadata": {
            "tags": [],
            "needs_background": "light"
          }
        }
      ]
    },
    {
      "cell_type": "code",
      "metadata": {
        "id": "Blmp6Hn7FJW6",
        "colab_type": "code",
        "colab": {
          "base_uri": "https://localhost:8080/",
          "height": 35
        },
        "outputId": "f42ac7e8-7d71-4007-92c2-0b94ee4bc713"
      },
      "source": [
        "simple_line_reg.predict([[6.5]])"
      ],
      "execution_count": 22,
      "outputs": [
        {
          "output_type": "execute_result",
          "data": {
            "text/plain": [
              "array([330378.78787879])"
            ]
          },
          "metadata": {
            "tags": []
          },
          "execution_count": 22
        }
      ]
    },
    {
      "cell_type": "markdown",
      "metadata": {
        "id": "DW7I7ZVDFNkk",
        "colab_type": "text"
      },
      "source": [
        "## Predicting a new result with Polynomial Regression"
      ]
    },
    {
      "cell_type": "code",
      "metadata": {
        "id": "uQmtnyTHFRGG",
        "colab_type": "code",
        "colab": {
          "base_uri": "https://localhost:8080/",
          "height": 35
        },
        "outputId": "8740ce65-9c1b-4ffd-e539-4d7484ce57a0"
      },
      "source": [
        "line_reg2.predict(poly_reg.fit_transform([[6.5]]))"
      ],
      "execution_count": 23,
      "outputs": [
        {
          "output_type": "execute_result",
          "data": {
            "text/plain": [
              "array([158862.45265155])"
            ]
          },
          "metadata": {
            "tags": []
          },
          "execution_count": 23
        }
      ]
    }
  ]
}
