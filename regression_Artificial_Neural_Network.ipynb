{
  "nbformat": 4,
  "nbformat_minor": 0,
  "metadata": {
    "colab": {
      "name": "Copy of Artificial Neural Network",
      "provenance": [],
      "collapsed_sections": [],
      "toc_visible": true,
      "include_colab_link": true
    },
    "kernelspec": {
      "name": "python3",
      "display_name": "Python 3"
    }
  },
  "cells": [
    {
      "cell_type": "markdown",
      "metadata": {
        "id": "view-in-github",
        "colab_type": "text"
      },
      "source": [
        "<a href=\"https://colab.research.google.com/github/zhuan0122/Machine_Learing_Handson_Python_in_Data_science/blob/master/regression_Artificial_Neural_Network.ipynb\" target=\"_parent\"><img src=\"https://colab.research.google.com/assets/colab-badge.svg\" alt=\"Open In Colab\"/></a>"
      ]
    },
    {
      "cell_type": "markdown",
      "metadata": {
        "id": "3cbb7fRy-eyr"
      },
      "source": [
        "# Artificial Neural Network"
      ]
    },
    {
      "cell_type": "markdown",
      "metadata": {
        "id": "8sNDnxE2-pwE"
      },
      "source": [
        "### Importing the libraries"
      ]
    },
    {
      "cell_type": "code",
      "metadata": {
        "id": "25TpiCHXepiy"
      },
      "source": [
        "# no package requires to be installed because in the platform all packages are installed before hand\n",
        "import numpy as np # with array \n",
        "import pandas as pd\n",
        "import tensorflow as tf"
      ],
      "execution_count": null,
      "outputs": []
    },
    {
      "cell_type": "code",
      "metadata": {
        "id": "lurgG1ThfBFD",
        "outputId": "3b65b315-bcd7-4995-b0c1-631523543343",
        "colab": {
          "base_uri": "https://localhost:8080/",
          "height": 35
        }
      },
      "source": [
        "tf.__version__"
      ],
      "execution_count": null,
      "outputs": [
        {
          "output_type": "execute_result",
          "data": {
            "application/vnd.google.colaboratory.intrinsic+json": {
              "type": "string"
            },
            "text/plain": [
              "'2.3.0'"
            ]
          },
          "metadata": {
            "tags": []
          },
          "execution_count": 2
        }
      ]
    },
    {
      "cell_type": "markdown",
      "metadata": {
        "id": "AG3FQEch-yuA"
      },
      "source": [
        "## Part 1 - Data Preprocessing"
      ]
    },
    {
      "cell_type": "markdown",
      "metadata": {
        "id": "-4zq8Mza_D9O"
      },
      "source": [
        "### Importing the dataset"
      ]
    },
    {
      "cell_type": "code",
      "metadata": {
        "id": "W-m076hee6eG"
      },
      "source": [
        "dataset= pd.read_excel('Folds5x2_pp.xlsx')\n",
        "x=dataset.iloc[:,:-1].values\n",
        "y=dataset.iloc[:,-1].values"
      ],
      "execution_count": null,
      "outputs": []
    },
    {
      "cell_type": "code",
      "metadata": {
        "id": "g0LfiNnUgRK-",
        "outputId": "cb2ab264-731e-4803-a7b3-b475fefa4d19",
        "colab": {
          "base_uri": "https://localhost:8080/",
          "height": 34
        }
      },
      "source": [
        "print(y)"
      ],
      "execution_count": null,
      "outputs": [
        {
          "output_type": "stream",
          "text": [
            "[463.26 444.37 488.56 ... 429.57 435.74 453.28]\n"
          ],
          "name": "stdout"
        }
      ]
    },
    {
      "cell_type": "code",
      "metadata": {
        "id": "UTOyWlZigT-u",
        "outputId": "44d16d33-c10d-4a7d-e2f1-cec58f250a01",
        "colab": {
          "base_uri": "https://localhost:8080/",
          "height": 34
        }
      },
      "source": [
        "y.dtype\n",
        "y.shape"
      ],
      "execution_count": null,
      "outputs": [
        {
          "output_type": "execute_result",
          "data": {
            "text/plain": [
              "(9568,)"
            ]
          },
          "metadata": {
            "tags": []
          },
          "execution_count": 7
        }
      ]
    },
    {
      "cell_type": "markdown",
      "metadata": {
        "id": "VC6omXel_Up0"
      },
      "source": [
        "### Splitting the dataset into the Training set and Test set"
      ]
    },
    {
      "cell_type": "code",
      "metadata": {
        "id": "f6Hxm53wgcZV"
      },
      "source": [
        "from sklearn.model_selection import train_test_split\n",
        "x_train, x_test , y_train, y_test = train_test_split(x,y,test_size=0.2, random_state=0) # fix the ramdom state then we could make sure to have the same split of x and y otherwise evry time \n",
        "# you will get different data set "
      ],
      "execution_count": null,
      "outputs": []
    },
    {
      "cell_type": "code",
      "metadata": {
        "id": "YYq7yaVLg9Y2",
        "outputId": "8c9407c3-5b19-47ec-ca54-18cab25d3a6b",
        "colab": {
          "base_uri": "https://localhost:8080/",
          "height": 34
        }
      },
      "source": [
        "y_test.shape"
      ],
      "execution_count": null,
      "outputs": [
        {
          "output_type": "execute_result",
          "data": {
            "text/plain": [
              "(1914,)"
            ]
          },
          "metadata": {
            "tags": []
          },
          "execution_count": 9
        }
      ]
    },
    {
      "cell_type": "markdown",
      "metadata": {
        "id": "_mSLlAT9_eyI"
      },
      "source": [
        "## Part 2 - Building the ANN"
      ]
    },
    {
      "cell_type": "markdown",
      "metadata": {
        "id": "CsBULd_f_wLY"
      },
      "source": [
        "### Initializing the ANN"
      ]
    },
    {
      "cell_type": "code",
      "metadata": {
        "id": "LmSBBSt6hSiC"
      },
      "source": [
        "# create a object of the sequential class to intialize the variable or object as a sequence of layers \n",
        "# keras has been in intergrated sub library of tensorflow\n",
        "ann= tf.keras.Sequential()"
      ],
      "execution_count": null,
      "outputs": []
    },
    {
      "cell_type": "markdown",
      "metadata": {
        "id": "iitAFJS_ABUn"
      },
      "source": [
        "### Adding the input layer and the first hidden layer"
      ]
    },
    {
      "cell_type": "code",
      "metadata": {
        "id": "nSeBRLAEicv-"
      },
      "source": [
        "# the object ann will have all tools from the class sequential \n",
        "# add is the method of the object ann or sequential class\n",
        "# but the layers are from another class Dense class, dense is the connection of the input layers and the first hidden layer. \n",
        "# high density of the neurons of the input layer and the hidden  layer\n",
        "# the first paramter of the dense class is the units of the neurons of the hidden layer we do not need to set the neurons of the input layer because \n",
        "# this will be automatically figures out once we fit the data features into the neural network\n",
        "ann.add(tf.keras.layers.Dense(units=6,activation='relu'))"
      ],
      "execution_count": null,
      "outputs": []
    },
    {
      "cell_type": "markdown",
      "metadata": {
        "id": "-lb4kK_wAKbs"
      },
      "source": [
        "### Adding the second hidden layer"
      ]
    },
    {
      "cell_type": "code",
      "metadata": {
        "id": "3y7cgZdEkLjr"
      },
      "source": [
        "ann.add(tf.keras.layers.Dense(units=6,activation='relu'))"
      ],
      "execution_count": null,
      "outputs": []
    },
    {
      "cell_type": "markdown",
      "metadata": {
        "id": "jwMOmKb3AdBY"
      },
      "source": [
        "### Adding the output layer"
      ]
    },
    {
      "cell_type": "code",
      "metadata": {
        "id": "4XnD6k1fkMq6"
      },
      "source": [
        "# not like the binary predict we use the binary categorical sigmoid, here we need to predict the continous linear values '\n",
        "# we chose NONE here for regression prediction to predict countinous value instaead of any sigmoid of classification \n",
        "ann.add(tf.keras.layers.Dense(units=1))"
      ],
      "execution_count": null,
      "outputs": []
    },
    {
      "cell_type": "markdown",
      "metadata": {
        "id": "fq7e4fF6A1yy"
      },
      "source": [
        "## Part 3 - Training the ANN"
      ]
    },
    {
      "cell_type": "markdown",
      "metadata": {
        "id": "qDeylAs2An25"
      },
      "source": [
        "### Compiling the ANN"
      ]
    },
    {
      "cell_type": "code",
      "metadata": {
        "id": "4L9m_1v9kmc0"
      },
      "source": [
        "# fit the data to the ann to train. it will like the human brain to train itself \n",
        "# adam is the highly recommended optimizer using the stachostic gradient descent method to find the optimization\n",
        "# we are predict the continous values here we do not need to use the metrics to calculate the accuracy \n",
        "ann.compile(optimizer='adam',loss='mean_squared_error')"
      ],
      "execution_count": null,
      "outputs": []
    },
    {
      "cell_type": "markdown",
      "metadata": {
        "id": "YjVuiybYOo7r"
      },
      "source": [
        "### Training the ANN model on the Training set"
      ]
    },
    {
      "cell_type": "code",
      "metadata": {
        "id": "YVmuMuykknN1",
        "outputId": "69547c86-b7d5-4e25-d94e-fb4ef493b1cc",
        "colab": {
          "base_uri": "https://localhost:8080/",
          "height": 1000
        }
      },
      "source": [
        "# batch _size and epochs here are capable to tune \n",
        "ann.fit(x_train,y_train,batch_size=32,epochs=100)"
      ],
      "execution_count": null,
      "outputs": [
        {
          "output_type": "stream",
          "text": [
            "Epoch 1/100\n",
            "240/240 [==============================] - 0s 978us/step - loss: 26.8561\n",
            "Epoch 2/100\n",
            "240/240 [==============================] - 0s 873us/step - loss: 27.0517\n",
            "Epoch 3/100\n",
            "240/240 [==============================] - 0s 1ms/step - loss: 27.1227\n",
            "Epoch 4/100\n",
            "240/240 [==============================] - 0s 889us/step - loss: 26.8934\n",
            "Epoch 5/100\n",
            "240/240 [==============================] - 0s 947us/step - loss: 26.7024\n",
            "Epoch 6/100\n",
            "240/240 [==============================] - 0s 939us/step - loss: 26.7736\n",
            "Epoch 7/100\n",
            "240/240 [==============================] - 0s 937us/step - loss: 27.1653\n",
            "Epoch 8/100\n",
            "240/240 [==============================] - 0s 934us/step - loss: 27.1398\n",
            "Epoch 9/100\n",
            "240/240 [==============================] - 0s 867us/step - loss: 27.0927\n",
            "Epoch 10/100\n",
            "240/240 [==============================] - 0s 942us/step - loss: 27.2156\n",
            "Epoch 11/100\n",
            "240/240 [==============================] - 0s 914us/step - loss: 27.0177\n",
            "Epoch 12/100\n",
            "240/240 [==============================] - 0s 924us/step - loss: 26.9356\n",
            "Epoch 13/100\n",
            "240/240 [==============================] - 0s 938us/step - loss: 26.7676\n",
            "Epoch 14/100\n",
            "240/240 [==============================] - 0s 928us/step - loss: 26.8339\n",
            "Epoch 15/100\n",
            "240/240 [==============================] - 0s 930us/step - loss: 27.1792\n",
            "Epoch 16/100\n",
            "240/240 [==============================] - 0s 1ms/step - loss: 26.8185\n",
            "Epoch 17/100\n",
            "240/240 [==============================] - 0s 890us/step - loss: 26.8726\n",
            "Epoch 18/100\n",
            "240/240 [==============================] - 0s 909us/step - loss: 26.5730\n",
            "Epoch 19/100\n",
            "240/240 [==============================] - 0s 939us/step - loss: 26.9183\n",
            "Epoch 20/100\n",
            "240/240 [==============================] - 0s 929us/step - loss: 26.7580\n",
            "Epoch 21/100\n",
            "240/240 [==============================] - 0s 925us/step - loss: 27.1868\n",
            "Epoch 22/100\n",
            "240/240 [==============================] - 0s 878us/step - loss: 26.6441\n",
            "Epoch 23/100\n",
            "240/240 [==============================] - 0s 946us/step - loss: 27.6428\n",
            "Epoch 24/100\n",
            "240/240 [==============================] - 0s 878us/step - loss: 26.5321\n",
            "Epoch 25/100\n",
            "240/240 [==============================] - 0s 899us/step - loss: 26.9750\n",
            "Epoch 26/100\n",
            "240/240 [==============================] - 0s 888us/step - loss: 26.6540\n",
            "Epoch 27/100\n",
            "240/240 [==============================] - 0s 931us/step - loss: 26.8357\n",
            "Epoch 28/100\n",
            "240/240 [==============================] - 0s 875us/step - loss: 27.7901\n",
            "Epoch 29/100\n",
            "240/240 [==============================] - 0s 938us/step - loss: 26.4917\n",
            "Epoch 30/100\n",
            "240/240 [==============================] - 0s 935us/step - loss: 26.8766\n",
            "Epoch 31/100\n",
            "240/240 [==============================] - 0s 870us/step - loss: 26.6953\n",
            "Epoch 32/100\n",
            "240/240 [==============================] - 0s 949us/step - loss: 26.8473\n",
            "Epoch 33/100\n",
            "240/240 [==============================] - 0s 905us/step - loss: 27.0743\n",
            "Epoch 34/100\n",
            "240/240 [==============================] - 0s 955us/step - loss: 26.8345\n",
            "Epoch 35/100\n",
            "240/240 [==============================] - 0s 895us/step - loss: 26.8410\n",
            "Epoch 36/100\n",
            "240/240 [==============================] - 0s 966us/step - loss: 26.8139\n",
            "Epoch 37/100\n",
            "240/240 [==============================] - 0s 924us/step - loss: 26.6343\n",
            "Epoch 38/100\n",
            "240/240 [==============================] - 0s 893us/step - loss: 26.9362\n",
            "Epoch 39/100\n",
            "240/240 [==============================] - 0s 878us/step - loss: 27.7117\n",
            "Epoch 40/100\n",
            "240/240 [==============================] - 0s 876us/step - loss: 26.2952\n",
            "Epoch 41/100\n",
            "240/240 [==============================] - 0s 952us/step - loss: 27.6168\n",
            "Epoch 42/100\n",
            "240/240 [==============================] - 0s 955us/step - loss: 27.0463\n",
            "Epoch 43/100\n",
            "240/240 [==============================] - 0s 1ms/step - loss: 27.3158\n",
            "Epoch 44/100\n",
            "240/240 [==============================] - 0s 992us/step - loss: 26.4705\n",
            "Epoch 45/100\n",
            "240/240 [==============================] - 0s 915us/step - loss: 26.8881\n",
            "Epoch 46/100\n",
            "240/240 [==============================] - 0s 876us/step - loss: 27.0071\n",
            "Epoch 47/100\n",
            "240/240 [==============================] - 0s 856us/step - loss: 26.4620\n",
            "Epoch 48/100\n",
            "240/240 [==============================] - 0s 1ms/step - loss: 27.1284\n",
            "Epoch 49/100\n",
            "240/240 [==============================] - 0s 909us/step - loss: 27.1514\n",
            "Epoch 50/100\n",
            "240/240 [==============================] - 0s 881us/step - loss: 27.0876\n",
            "Epoch 51/100\n",
            "240/240 [==============================] - 0s 886us/step - loss: 26.6699\n",
            "Epoch 52/100\n",
            "240/240 [==============================] - 0s 910us/step - loss: 26.6286\n",
            "Epoch 53/100\n",
            "240/240 [==============================] - 0s 886us/step - loss: 27.0379\n",
            "Epoch 54/100\n",
            "240/240 [==============================] - 0s 924us/step - loss: 26.8951\n",
            "Epoch 55/100\n",
            "240/240 [==============================] - 0s 870us/step - loss: 26.7965\n",
            "Epoch 56/100\n",
            "240/240 [==============================] - 0s 871us/step - loss: 27.1979\n",
            "Epoch 57/100\n",
            "240/240 [==============================] - 0s 909us/step - loss: 26.6555\n",
            "Epoch 58/100\n",
            "240/240 [==============================] - 0s 893us/step - loss: 27.4255\n",
            "Epoch 59/100\n",
            "240/240 [==============================] - 0s 918us/step - loss: 26.9520\n",
            "Epoch 60/100\n",
            "240/240 [==============================] - 0s 903us/step - loss: 27.0492\n",
            "Epoch 61/100\n",
            "240/240 [==============================] - 0s 941us/step - loss: 26.8536\n",
            "Epoch 62/100\n",
            "240/240 [==============================] - 0s 892us/step - loss: 26.5547\n",
            "Epoch 63/100\n",
            "240/240 [==============================] - 0s 921us/step - loss: 26.4753\n",
            "Epoch 64/100\n",
            "240/240 [==============================] - 0s 921us/step - loss: 26.9024\n",
            "Epoch 65/100\n",
            "240/240 [==============================] - 0s 900us/step - loss: 26.6133\n",
            "Epoch 66/100\n",
            "240/240 [==============================] - 0s 913us/step - loss: 26.5759\n",
            "Epoch 67/100\n",
            "240/240 [==============================] - 0s 937us/step - loss: 27.0885\n",
            "Epoch 68/100\n",
            "240/240 [==============================] - 0s 888us/step - loss: 26.8300\n",
            "Epoch 69/100\n",
            "240/240 [==============================] - 0s 895us/step - loss: 26.8662\n",
            "Epoch 70/100\n",
            "240/240 [==============================] - 0s 913us/step - loss: 26.9592\n",
            "Epoch 71/100\n",
            "240/240 [==============================] - 0s 905us/step - loss: 26.8387\n",
            "Epoch 72/100\n",
            "240/240 [==============================] - 0s 927us/step - loss: 26.5010\n",
            "Epoch 73/100\n",
            "240/240 [==============================] - 0s 924us/step - loss: 26.9244\n",
            "Epoch 74/100\n",
            "240/240 [==============================] - 0s 901us/step - loss: 26.8649\n",
            "Epoch 75/100\n",
            "240/240 [==============================] - 0s 905us/step - loss: 26.8072\n",
            "Epoch 76/100\n",
            "240/240 [==============================] - 0s 916us/step - loss: 27.1460\n",
            "Epoch 77/100\n",
            "240/240 [==============================] - 0s 916us/step - loss: 26.7926\n",
            "Epoch 78/100\n",
            "240/240 [==============================] - 0s 890us/step - loss: 26.6690\n",
            "Epoch 79/100\n",
            "240/240 [==============================] - 0s 1000us/step - loss: 26.6903\n",
            "Epoch 80/100\n",
            "240/240 [==============================] - 0s 952us/step - loss: 26.5801\n",
            "Epoch 81/100\n",
            "240/240 [==============================] - 0s 971us/step - loss: 27.0392\n",
            "Epoch 82/100\n",
            "240/240 [==============================] - 0s 945us/step - loss: 26.9372\n",
            "Epoch 83/100\n",
            "240/240 [==============================] - 0s 901us/step - loss: 26.7302\n",
            "Epoch 84/100\n",
            "240/240 [==============================] - 0s 934us/step - loss: 26.7819\n",
            "Epoch 85/100\n",
            "240/240 [==============================] - 0s 989us/step - loss: 26.6641\n",
            "Epoch 86/100\n",
            "240/240 [==============================] - 0s 881us/step - loss: 26.5367\n",
            "Epoch 87/100\n",
            "240/240 [==============================] - 0s 910us/step - loss: 27.1396\n",
            "Epoch 88/100\n",
            "240/240 [==============================] - 0s 895us/step - loss: 27.1232\n",
            "Epoch 89/100\n",
            "240/240 [==============================] - 0s 914us/step - loss: 26.4920\n",
            "Epoch 90/100\n",
            "240/240 [==============================] - 0s 912us/step - loss: 26.4861\n",
            "Epoch 91/100\n",
            "240/240 [==============================] - 0s 888us/step - loss: 26.7988\n",
            "Epoch 92/100\n",
            "240/240 [==============================] - 0s 959us/step - loss: 27.1693\n",
            "Epoch 93/100\n",
            "240/240 [==============================] - 0s 935us/step - loss: 26.3842\n",
            "Epoch 94/100\n",
            "240/240 [==============================] - 0s 936us/step - loss: 26.3812\n",
            "Epoch 95/100\n",
            "240/240 [==============================] - 0s 896us/step - loss: 27.1786\n",
            "Epoch 96/100\n",
            "240/240 [==============================] - 0s 870us/step - loss: 27.0855\n",
            "Epoch 97/100\n",
            "240/240 [==============================] - 0s 892us/step - loss: 26.6921\n",
            "Epoch 98/100\n",
            "240/240 [==============================] - 0s 912us/step - loss: 26.7612\n",
            "Epoch 99/100\n",
            "240/240 [==============================] - 0s 909us/step - loss: 27.0759\n",
            "Epoch 100/100\n",
            "240/240 [==============================] - 0s 891us/step - loss: 27.0623\n"
          ],
          "name": "stdout"
        },
        {
          "output_type": "execute_result",
          "data": {
            "text/plain": [
              "<tensorflow.python.keras.callbacks.History at 0x7fc05898bc18>"
            ]
          },
          "metadata": {
            "tags": []
          },
          "execution_count": 17
        }
      ]
    },
    {
      "cell_type": "markdown",
      "metadata": {
        "id": "0H0zKKNEBLD5"
      },
      "source": [
        "### Predicting the results of the Test set"
      ]
    },
    {
      "cell_type": "code",
      "metadata": {
        "id": "p0md1B5Bknrv",
        "outputId": "f538cc80-033a-4170-fdf8-278913ab5800",
        "colab": {
          "base_uri": "https://localhost:8080/",
          "height": 136
        }
      },
      "source": [
        "y_pred=ann.predict(x_test)\n",
        "np.set_printoptions(precision=2) # make the clear precision display\n",
        "y_pred=y_pred.reshape(len(y_pred),1)\n",
        "y_test=y_test.reshape(len(y_test),1)\n",
        "print(np.concatenate((y_pred,y_test),1))"
      ],
      "execution_count": null,
      "outputs": [
        {
          "output_type": "stream",
          "text": [
            "[[430.83 431.23]\n",
            " [461.89 460.01]\n",
            " [465.42 461.14]\n",
            " ...\n",
            " [472.56 473.26]\n",
            " [439.56 438.  ]\n",
            " [458.67 463.28]]\n"
          ],
          "name": "stdout"
        }
      ]
    }
  ]
}