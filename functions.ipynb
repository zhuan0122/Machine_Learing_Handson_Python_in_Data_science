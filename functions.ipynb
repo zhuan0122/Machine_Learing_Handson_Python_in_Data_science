{
  "nbformat": 4,
  "nbformat_minor": 0,
  "metadata": {
    "colab": {
      "name": "Untitled0.ipynb",
      "provenance": [],
      "authorship_tag": "ABX9TyPFfo24IVmTRMBHZRMnZK1b",
      "include_colab_link": true
    },
    "kernelspec": {
      "name": "python3",
      "display_name": "Python 3"
    }
  },
  "cells": [
    {
      "cell_type": "markdown",
      "metadata": {
        "id": "view-in-github",
        "colab_type": "text"
      },
      "source": [
        "<a href=\"https://colab.research.google.com/github/zhuan0122/Machine_Learing_Handson_Python_in_Data_science/blob/master/functions.ipynb\" target=\"_parent\"><img src=\"https://colab.research.google.com/assets/colab-badge.svg\" alt=\"Open In Colab\"/></a>"
      ]
    },
    {
      "cell_type": "code",
      "metadata": {
        "id": "M2awIcgnHuOH"
      },
      "source": [
        ""
      ],
      "execution_count": 1,
      "outputs": []
    },
    {
      "cell_type": "markdown",
      "metadata": {
        "id": "WFG1L9x4IUkk"
      },
      "source": [
        "## Enumerate function / append function / concantenate function\n",
        "## store values in matrix/arry or list"
      ]
    },
    {
      "cell_type": "markdown",
      "metadata": {
        "id": "ZvE_Ime1JrX_"
      },
      "source": [
        "### By default, the Python enumerate() function returns an enumerated object. You can convert this object to a tuple or a list by using tuple(<enumerate>) and list(<enumerate>), respectively.\n",
        "### Using enumerate() instead of more verbose loops not only makes the code cleaner but is a more Pythonic way of programming. Such loops can be messy and can have more errors."
      ]
    },
    {
      "cell_type": "code",
      "metadata": {
        "id": "fXZULTonIjS3",
        "outputId": "310cfb43-7381-4f14-8a3a-49c0dccfa417",
        "colab": {
          "base_uri": "https://localhost:8080/",
          "height": 35
        }
      },
      "source": [
        "cars = ['kia', 'audi', 'bmw']\n",
        "print(list(enumerate(cars, start = 1)))"
      ],
      "execution_count": 2,
      "outputs": [
        {
          "output_type": "stream",
          "text": [
            "[(1, 'kia'), (2, 'audi'), (3, 'bmw')]\n"
          ],
          "name": "stdout"
        }
      ]
    },
    {
      "cell_type": "code",
      "metadata": {
        "id": "rKLKYFq0Iyll",
        "outputId": "2258e020-17a3-4570-bccd-7409fa035907",
        "colab": {
          "base_uri": "https://localhost:8080/",
          "height": 35
        }
      },
      "source": [
        "# use for loop to achive the result above \n",
        "cars = ['kia', 'audi', 'bmw']\n",
        "listOfCars = []\n",
        "n = 0\n",
        "for car in cars:\n",
        "    listOfCars.append((n, car))\n",
        "    n += 1\n",
        "print(listOfCars)"
      ],
      "execution_count": 3,
      "outputs": [
        {
          "output_type": "stream",
          "text": [
            "[(0, 'kia'), (1, 'audi'), (2, 'bmw')]\n"
          ],
          "name": "stdout"
        }
      ]
    },
    {
      "cell_type": "code",
      "metadata": {
        "id": "vk6nYTPHI76d",
        "outputId": "8f8faa36-6143-4576-c648-49c364fdf123",
        "colab": {
          "base_uri": "https://localhost:8080/",
          "height": 35
        }
      },
      "source": [
        "y_set=[1,2,3]\n",
        "li=[]\n",
        "for i in enumerate(y_set):\n",
        "  li.append(i)\n",
        "print(li)"
      ],
      "execution_count": 7,
      "outputs": [
        {
          "output_type": "stream",
          "text": [
            "[(0, 1), (1, 2), (2, 3)]\n"
          ],
          "name": "stdout"
        }
      ]
    },
    {
      "cell_type": "code",
      "metadata": {
        "id": "Xq47zPtoJy09",
        "outputId": "00546c8e-c0c7-4de3-ea26-0e46177b040c",
        "colab": {
          "base_uri": "https://localhost:8080/",
          "height": 35
        }
      },
      "source": [
        "tuple(li)"
      ],
      "execution_count": 10,
      "outputs": [
        {
          "output_type": "execute_result",
          "data": {
            "text/plain": [
              "((0, 1), (1, 2), (2, 3))"
            ]
          },
          "metadata": {
            "tags": []
          },
          "execution_count": 10
        }
      ]
    },
    {
      "cell_type": "code",
      "metadata": {
        "id": "KQaxVYeLJaEs",
        "outputId": "8fafb3fa-d4a0-4ecc-bb6f-ac04d1905760",
        "colab": {
          "base_uri": "https://localhost:8080/",
          "height": 35
        }
      },
      "source": [
        "y_set=[1,2,3]\n",
        "li2=[]\n",
        "for i in y_set:\n",
        "  li2.append(i)\n",
        "print(li)"
      ],
      "execution_count": 8,
      "outputs": [
        {
          "output_type": "stream",
          "text": [
            "[(0, 1), (1, 2), (2, 3)]\n"
          ],
          "name": "stdout"
        }
      ]
    },
    {
      "cell_type": "markdown",
      "metadata": {
        "id": "3H9ZtZ0YLrWU"
      },
      "source": [
        "## concatnate data frame columns "
      ]
    },
    {
      "cell_type": "code",
      "metadata": {
        "id": "5t7y-tAoLpF3",
        "outputId": "94fbc51a-429c-44bc-e80b-c2801602c5b9",
        "colab": {
          "base_uri": "https://localhost:8080/",
          "height": 121
        }
      },
      "source": [
        "from pandas import DataFrame \n",
        "\n",
        "Dates = {'Day': [1,2,3,4,5], \n",
        "        'Month': ['Jun','Jul','Aug','Sep','Oct'], \n",
        "        'Year': [2016,2017,2018,2019,2020]} \n",
        "\n",
        "df = DataFrame(Dates, columns= ['Day', 'Month','Year'])\n",
        "print (df)"
      ],
      "execution_count": 12,
      "outputs": [
        {
          "output_type": "stream",
          "text": [
            "   Day Month  Year\n",
            "0    1   Jun  2016\n",
            "1    2   Jul  2017\n",
            "2    3   Aug  2018\n",
            "3    4   Sep  2019\n",
            "4    5   Oct  2020\n"
          ],
          "name": "stdout"
        }
      ]
    },
    {
      "cell_type": "code",
      "metadata": {
        "id": "fFLB4DoBLfbK",
        "outputId": "2b19fe57-c050-46e2-dea9-763c71ace0c0",
        "colab": {
          "base_uri": "https://localhost:8080/",
          "height": 121
        }
      },
      "source": [
        "from pandas import DataFrame \n",
        "\n",
        "Dates = {'Day': [1,2,3,4,5], \n",
        "        'Month': ['Jun','Jul','Aug','Sep','Oct'], \n",
        "        'Year': [2016,2017,2018,2019,2020]} \n",
        "\n",
        "df = DataFrame(Dates, columns= ['Day', 'Month','Year']) \n",
        "\n",
        "df1 = df['Day'].map(str) + '-' + df['Month'].map(str) + '-' + df['Year'].map(str)\n",
        "print (df1)"
      ],
      "execution_count": 11,
      "outputs": [
        {
          "output_type": "stream",
          "text": [
            "0    1-Jun-2016\n",
            "1    2-Jul-2017\n",
            "2    3-Aug-2018\n",
            "3    4-Sep-2019\n",
            "4    5-Oct-2020\n",
            "dtype: object\n"
          ],
          "name": "stdout"
        }
      ]
    },
    {
      "cell_type": "code",
      "metadata": {
        "id": "7NbYU4YVLvRu"
      },
      "source": [
        ""
      ],
      "execution_count": null,
      "outputs": []
    },
    {
      "cell_type": "markdown",
      "metadata": {
        "id": "56ZJop9oLwMG"
      },
      "source": [
        "## concatanate strings use '+' which is equal to concatanate"
      ]
    },
    {
      "cell_type": "code",
      "metadata": {
        "id": "oqS8LgKUL2_-",
        "outputId": "d7152663-1aa9-414b-f882-5debf7a82649",
        "colab": {
          "base_uri": "https://localhost:8080/",
          "height": 121
        }
      },
      "source": [
        "from pandas import DataFrame \n",
        "\n",
        "Dates = {'Day': [1,2,3,4,5], \n",
        "        'Month': ['Jun','Jul','Aug','Sep','Oct'], \n",
        "        'Year': [2016,2017,2018,2019,2020]} \n",
        "\n",
        "df1 = DataFrame(Dates, columns= ['Day', 'Month','Year']) \n",
        "\n",
        "Rates = {'Unemployment Rate': [5.5,5,5.2,5.1,4.9], \n",
        "         'Interest Rate': [1.75,1.5,1.25,1.5,2]} \n",
        "\n",
        "df2 = DataFrame(Rates, columns= ['Unemployment Rate', 'Interest Rate'])\n",
        "\n",
        "df_combined = df1['Day'].map(str) + '-' + df1['Month'].map(str) + '-' + df1['Year'].map(str) + ': ' + 'Unemployment: ' + df2['Unemployment Rate'].map(str) + '; ' + 'Interest: ' + df2['Interest Rate'].map(str)\n",
        "print (df_combined)"
      ],
      "execution_count": 14,
      "outputs": [
        {
          "output_type": "stream",
          "text": [
            "0    1-Jun-2016: Unemployment: 5.5; Interest: 1.75\n",
            "1     2-Jul-2017: Unemployment: 5.0; Interest: 1.5\n",
            "2    3-Aug-2018: Unemployment: 5.2; Interest: 1.25\n",
            "3     4-Sep-2019: Unemployment: 5.1; Interest: 1.5\n",
            "4     5-Oct-2020: Unemployment: 4.9; Interest: 2.0\n",
            "dtype: object\n"
          ],
          "name": "stdout"
        }
      ]
    },
    {
      "cell_type": "code",
      "metadata": {
        "id": "RqgGzS8sM1-D",
        "outputId": "50edd3bf-692c-4919-fc0e-2327a196bb1c",
        "colab": {
          "base_uri": "https://localhost:8080/",
          "height": 35
        }
      },
      "source": [
        "str1 = 'helo'\n",
        "str2 = 'wporld'\n",
        "print(str1 + str2)"
      ],
      "execution_count": 18,
      "outputs": [
        {
          "output_type": "stream",
          "text": [
            "helowporld\n"
          ],
          "name": "stdout"
        }
      ]
    }
  ]
}